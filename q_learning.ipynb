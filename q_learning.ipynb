{
  "nbformat": 4,
  "nbformat_minor": 0,
  "metadata": {
    "colab": {
      "provenance": [],
      "collapsed_sections": []
    },
    "kernelspec": {
      "name": "python3",
      "display_name": "Python 3"
    },
    "language_info": {
      "name": "python"
    }
  },
  "cells": [
    {
      "cell_type": "markdown",
      "source": [
        "## Radhika\n",
        "## 20csu267\n",
        "### September 15, 2022\n",
        "### Q-Learning"
      ],
      "metadata": {
        "id": "TYVrzmbamHGD"
      }
    },
    {
      "cell_type": "code",
      "execution_count": 1,
      "metadata": {
        "id": "m06cIggKVA25"
      },
      "outputs": [],
      "source": [
        "import numpy as np\n",
        "# r-matrix\n",
        "r= np.matrix([[-1, -1, -1, -1, 0, -1],\n",
        "              [-1, -1, -1, 0, -1, 100],\n",
        "              [-1, -1, -1, 0, -1, -1],\n",
        "              [-1, 0, 0, -1, 0, -1],\n",
        "              [-1, 0, 0, -1, -1, 100],\n",
        "              [-1, 0, -1, -1, 0, 100]])"
      ]
    },
    {
      "cell_type": "code",
      "source": [
        "# q-matrix\n",
        "q= np.matrix(np.zeros([6, 6]))\n",
        "q"
      ],
      "metadata": {
        "colab": {
          "base_uri": "https://localhost:8080/"
        },
        "id": "E_8lg-vpZR04",
        "outputId": "74569a21-9ed1-4087-fde8-9d5fed612d58"
      },
      "execution_count": 2,
      "outputs": [
        {
          "output_type": "execute_result",
          "data": {
            "text/plain": [
              "matrix([[0., 0., 0., 0., 0., 0.],\n",
              "        [0., 0., 0., 0., 0., 0.],\n",
              "        [0., 0., 0., 0., 0., 0.],\n",
              "        [0., 0., 0., 0., 0., 0.],\n",
              "        [0., 0., 0., 0., 0., 0.],\n",
              "        [0., 0., 0., 0., 0., 0.]])"
            ]
          },
          "metadata": {},
          "execution_count": 2
        }
      ]
    },
    {
      "cell_type": "code",
      "source": [
        "gamma= 0.8\n",
        "initial_state= 1"
      ],
      "metadata": {
        "id": "9MbOiRqGavFA"
      },
      "execution_count": 11,
      "outputs": []
    },
    {
      "cell_type": "code",
      "source": [
        "# returns all available actions in the state given as an arg\n",
        "def available_actions(state):\n",
        "  current_state_row= r[state, ]\n",
        "  av_act= np.where(current_state_row >= 0)[1]\n",
        "  return av_act"
      ],
      "metadata": {
        "id": "lgw1WZ4sbDeL"
      },
      "execution_count": 12,
      "outputs": []
    },
    {
      "cell_type": "code",
      "source": [
        "# get available actions in the current state\n",
        "available_act= available_actions(initial_state)\n",
        "available_act"
      ],
      "metadata": {
        "colab": {
          "base_uri": "https://localhost:8080/"
        },
        "id": "nzNSbz4abgC5",
        "outputId": "68872462-95a3-48b9-cbec-2ea66dd5004e"
      },
      "execution_count": 13,
      "outputs": [
        {
          "output_type": "execute_result",
          "data": {
            "text/plain": [
              "array([3, 5])"
            ]
          },
          "metadata": {},
          "execution_count": 13
        }
      ]
    },
    {
      "cell_type": "code",
      "source": [
        "# chooses at random which action to be performed with\n",
        "def sample_next_action(available_actions_range):\n",
        "  next_action= int(np.random.choice(available_act, 1))\n",
        "  return next_action"
      ],
      "metadata": {
        "id": "lqIjFtqWbwNj"
      },
      "execution_count": 14,
      "outputs": []
    },
    {
      "cell_type": "code",
      "source": [
        "# sample next action to be performed\n",
        "action= sample_next_action(available_act)\n",
        "action"
      ],
      "metadata": {
        "colab": {
          "base_uri": "https://localhost:8080/"
        },
        "id": "XxHsgGEgdVxW",
        "outputId": "bebffa71-df8b-463a-e0be-62849cab1d93"
      },
      "execution_count": 18,
      "outputs": [
        {
          "output_type": "execute_result",
          "data": {
            "text/plain": [
              "5"
            ]
          },
          "metadata": {},
          "execution_count": 18
        }
      ]
    },
    {
      "cell_type": "code",
      "source": [
        "# updates the q-matrix according to the path selected\n",
        "def update(current_state, action, gamma):\n",
        "  max_index= np.where(q[action, ]==np.max(q[action, ]))[1]\n",
        "\n",
        "  if max_index.shape[0] > 1:\n",
        "    max_index= int(np.random.choice(max_index, size=1))\n",
        "  else:\n",
        "    max_index= int(max_index)\n",
        "  max_value= q[action, max_index]\n",
        "\n",
        "  # q-learning formula\n",
        "  q[current_state, action]= r[current_state, action] + gamma*max_value\n",
        "\n",
        "#update q-matrix\n",
        "update(initial_state, action, gamma)"
      ],
      "metadata": {
        "id": "LPAuDLrqe47C"
      },
      "execution_count": 19,
      "outputs": []
    },
    {
      "cell_type": "code",
      "source": [
        "q"
      ],
      "metadata": {
        "colab": {
          "base_uri": "https://localhost:8080/"
        },
        "id": "eug8JsghhUSI",
        "outputId": "cf0c72a8-5d17-47fe-ce38-99cb3af27d7f"
      },
      "execution_count": 20,
      "outputs": [
        {
          "output_type": "execute_result",
          "data": {
            "text/plain": [
              "matrix([[  0.,   0.,   0.,   0.,   0.,   0.],\n",
              "        [  0.,   0.,   0.,   0.,   0., 100.],\n",
              "        [  0.,   0.,   0.,   0.,   0.,   0.],\n",
              "        [  0.,   0.,   0.,   0.,   0.,   0.],\n",
              "        [  0.,   0.,   0.,   0.,   0.,   0.],\n",
              "        [  0.,   0.,   0.,   0.,   0.,   0.]])"
            ]
          },
          "metadata": {},
          "execution_count": 20
        }
      ]
    },
    {
      "cell_type": "code",
      "source": [
        "# training\n",
        "#train over 10k iterations\n",
        "for i in range(10000):\n",
        "  current_state= np.random.randint(0, int(q.shape[0]))\n",
        "  available_act= available_actions(current_state)\n",
        "  action= sample_next_action(available_act)\n",
        "  update(current_state, action, gamma)"
      ],
      "metadata": {
        "id": "LqdQaFA9hVsH"
      },
      "execution_count": 21,
      "outputs": []
    },
    {
      "cell_type": "code",
      "source": [
        "q"
      ],
      "metadata": {
        "colab": {
          "base_uri": "https://localhost:8080/"
        },
        "id": "sDOhMAG2ijlc",
        "outputId": "0b1d46eb-b90e-433a-fc0d-3d475d091b1c"
      },
      "execution_count": 22,
      "outputs": [
        {
          "output_type": "execute_result",
          "data": {
            "text/plain": [
              "matrix([[  0.,   0.,   0.,   0., 400.,   0.],\n",
              "        [  0.,   0.,   0., 320.,   0., 500.],\n",
              "        [  0.,   0.,   0., 320.,   0.,   0.],\n",
              "        [  0., 400., 256.,   0., 400.,   0.],\n",
              "        [  0., 400., 256.,   0.,   0., 500.],\n",
              "        [  0., 400.,   0.,   0., 400., 500.]])"
            ]
          },
          "metadata": {},
          "execution_count": 22
        }
      ]
    },
    {
      "cell_type": "code",
      "source": [
        "# normalize the trained q-matrix\n",
        "print(q/np.max(q)*100)"
      ],
      "metadata": {
        "colab": {
          "base_uri": "https://localhost:8080/"
        },
        "id": "WsK4OCXCimZ8",
        "outputId": "83bb586e-1de1-4a0f-c55a-f450a6cf334f"
      },
      "execution_count": 23,
      "outputs": [
        {
          "output_type": "stream",
          "name": "stdout",
          "text": [
            "[[  0.    0.    0.    0.   80.    0. ]\n",
            " [  0.    0.    0.   64.    0.  100. ]\n",
            " [  0.    0.    0.   64.    0.    0. ]\n",
            " [  0.   80.   51.2   0.   80.    0. ]\n",
            " [  0.   80.   51.2   0.    0.  100. ]\n",
            " [  0.   80.    0.    0.   80.  100. ]]\n"
          ]
        }
      ]
    },
    {
      "cell_type": "code",
      "source": [
        "# testing\n",
        "# goal state= 5\n",
        "\n",
        "current_state= 1\n",
        "steps= [current_state]\n",
        "\n",
        "while current_state != 5:\n",
        "  next_step_index= np.where(q[current_state, ] == np.max(q[current_state, ]))[1]\n",
        "  if next_step_index.shape[0] > 1:\n",
        "    next_step_index= int(np.radom.choice(next_step_index, size= 1))\n",
        "  else:\n",
        "    next_step_index= int(next_step_index)\n",
        "\n",
        "  steps.append(next_step_index)\n",
        "  current_state= next_step_index"
      ],
      "metadata": {
        "id": "aHGh17HOi9mf"
      },
      "execution_count": 24,
      "outputs": []
    },
    {
      "cell_type": "code",
      "source": [
        "print(\"Selected path: \", steps)"
      ],
      "metadata": {
        "colab": {
          "base_uri": "https://localhost:8080/"
        },
        "id": "aDObdCFOlpm8",
        "outputId": "eaeda1f8-cdce-4835-f8c5-f7d9a287ea8e"
      },
      "execution_count": 25,
      "outputs": [
        {
          "output_type": "stream",
          "name": "stdout",
          "text": [
            "Selected path:  [1, 5]\n"
          ]
        }
      ]
    },
    {
      "cell_type": "code",
      "source": [
        "q"
      ],
      "metadata": {
        "colab": {
          "base_uri": "https://localhost:8080/"
        },
        "id": "W9E1JtyblwRw",
        "outputId": "eddb9cb4-0dff-4368-b1df-7cf015c3a585"
      },
      "execution_count": 26,
      "outputs": [
        {
          "output_type": "execute_result",
          "data": {
            "text/plain": [
              "matrix([[  0.,   0.,   0.,   0., 400.,   0.],\n",
              "        [  0.,   0.,   0., 320.,   0., 500.],\n",
              "        [  0.,   0.,   0., 320.,   0.,   0.],\n",
              "        [  0., 400., 256.,   0., 400.,   0.],\n",
              "        [  0., 400., 256.,   0.,   0., 500.],\n",
              "        [  0., 400.,   0.,   0., 400., 500.]])"
            ]
          },
          "metadata": {},
          "execution_count": 26
        }
      ]
    },
    {
      "cell_type": "code",
      "source": [],
      "metadata": {
        "id": "bYcibXIhl2dl"
      },
      "execution_count": null,
      "outputs": []
    }
  ]
}